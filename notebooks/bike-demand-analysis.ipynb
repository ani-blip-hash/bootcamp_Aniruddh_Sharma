# Project: Optimizing Bike-Sharing Demand in NYC
# Problem: Imbalance between bike availability and demand.
# Stakeholder: CitiBike Operations Team.
# Goals: Predict hourly demand for redistribution.
# Output: Predictive model + dashboard.

import pandas as pd
import matplotlib.pyplot as plt

df = pd.read_csv("../data/sample_bike_data.csv")
df.head()
