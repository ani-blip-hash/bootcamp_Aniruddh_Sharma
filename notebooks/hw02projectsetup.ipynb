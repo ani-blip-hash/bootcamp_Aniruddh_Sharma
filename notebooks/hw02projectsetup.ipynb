{
 "cells": [
  {
   "cell_type": "markdown",
   "id": "16b9ad4d-8ae9-4ff2-980e-797ce54d378e",
   "metadata": {},
   "source": [
    "# Environment & Config Check"
   ]
  },
  {
   "cell_type": "code",
   "execution_count": 1,
   "id": "f365ee3d-6ad4-4624-bb4f-3d99ed3753e4",
   "metadata": {},
   "outputs": [
    {
     "name": "stdout",
     "output_type": "stream",
     "text": [
      "API_KEY present: True\n"
     ]
    }
   ],
   "source": [
    "from dotenv import load_dotenv\n",
    "import os\n",
    "\n",
    "load_dotenv()\n",
    "print(\"API_KEY present:\", os.getenv(\"API_KEY\") is not None)\n"
   ]
  },
  {
   "cell_type": "code",
   "execution_count": 2,
   "id": "a9d73d70-c9de-4e3e-a46c-84e232d6cc74",
   "metadata": {},
   "outputs": [
    {
     "name": "stdout",
     "output_type": "stream",
     "text": [
      "Array sum: 6\n"
     ]
    }
   ],
   "source": [
    "import numpy as np\n",
    "\n",
    "arr = np.array([1, 2, 3])\n",
    "print(\"Array sum:\", np.sum(arr))\n"
   ]
  },
  {
   "cell_type": "code",
   "execution_count": null,
   "id": "9eefeba0-e18c-407d-a708-33864b5111d6",
   "metadata": {},
   "outputs": [],
   "source": []
  }
 ],
 "metadata": {
  "kernelspec": {
   "display_name": "Python 3 (ipykernel)",
   "language": "python",
   "name": "python3"
  },
  "language_info": {
   "codemirror_mode": {
    "name": "ipython",
    "version": 3
   },
   "file_extension": ".py",
   "mimetype": "text/x-python",
   "name": "python",
   "nbconvert_exporter": "python",
   "pygments_lexer": "ipython3",
   "version": "3.12.7"
  }
 },
 "nbformat": 4,
 "nbformat_minor": 5
}
