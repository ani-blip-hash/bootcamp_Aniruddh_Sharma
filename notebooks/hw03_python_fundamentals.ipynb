{
 "cells": [
  {
   "cell_type": "code",
   "execution_count": 1,
   "id": "40d19993-9b0e-42e9-a252-dbf42527cbc4",
   "metadata": {},
   "outputs": [
    {
     "name": "stdout",
     "output_type": "stream",
     "text": [
      "Squared: [ 1  4  9 16 25]\n",
      "Loop time: 0.0875098705291748\n",
      "Vectorized time: 0.0010004043579101562\n"
     ]
    }
   ],
   "source": [
    "import numpy as np\n",
    "import time\n",
    "\n",
    "# Create array\n",
    "arr = np.array([1, 2, 3, 4, 5])\n",
    "\n",
    "# Elementwise operation\n",
    "arr_squared = arr ** 2\n",
    "print(\"Squared:\", arr_squared)\n",
    "\n",
    "# Loop vs vectorized\n",
    "big_list = list(range(1_000_000))\n",
    "big_array = np.array(big_list)\n",
    "\n",
    "start = time.time()\n",
    "loop_result = [x**2 for x in big_list]\n",
    "print(\"Loop time:\", time.time() - start)\n",
    "\n",
    "start = time.time()\n",
    "vector_result = big_array ** 2\n",
    "print(\"Vectorized time:\", time.time() - start)\n"
   ]
  },
  {
   "cell_type": "code",
   "execution_count": 2,
   "id": "a8984117-b57d-4422-9b76-ed35fb0f9a91",
   "metadata": {},
   "outputs": [
    {
     "name": "stdout",
     "output_type": "stream",
     "text": [
      "<class 'pandas.core.frame.DataFrame'>\n",
      "RangeIndex: 10 entries, 0 to 9\n",
      "Data columns (total 3 columns):\n",
      " #   Column    Non-Null Count  Dtype \n",
      "---  ------    --------------  ----- \n",
      " 0   category  10 non-null     object\n",
      " 1   value     10 non-null     int64 \n",
      " 2   date      10 non-null     object\n",
      "dtypes: int64(1), object(2)\n",
      "memory usage: 372.0+ bytes\n"
     ]
    },
    {
     "data": {
      "text/html": [
       "<div>\n",
       "<style scoped>\n",
       "    .dataframe tbody tr th:only-of-type {\n",
       "        vertical-align: middle;\n",
       "    }\n",
       "\n",
       "    .dataframe tbody tr th {\n",
       "        vertical-align: top;\n",
       "    }\n",
       "\n",
       "    .dataframe thead th {\n",
       "        text-align: right;\n",
       "    }\n",
       "</style>\n",
       "<table border=\"1\" class=\"dataframe\">\n",
       "  <thead>\n",
       "    <tr style=\"text-align: right;\">\n",
       "      <th></th>\n",
       "      <th>category</th>\n",
       "      <th>value</th>\n",
       "      <th>date</th>\n",
       "    </tr>\n",
       "  </thead>\n",
       "  <tbody>\n",
       "    <tr>\n",
       "      <th>0</th>\n",
       "      <td>A</td>\n",
       "      <td>10</td>\n",
       "      <td>2025-08-01</td>\n",
       "    </tr>\n",
       "    <tr>\n",
       "      <th>1</th>\n",
       "      <td>B</td>\n",
       "      <td>15</td>\n",
       "      <td>2025-08-02</td>\n",
       "    </tr>\n",
       "    <tr>\n",
       "      <th>2</th>\n",
       "      <td>A</td>\n",
       "      <td>12</td>\n",
       "      <td>2025-08-03</td>\n",
       "    </tr>\n",
       "    <tr>\n",
       "      <th>3</th>\n",
       "      <td>B</td>\n",
       "      <td>18</td>\n",
       "      <td>2025-08-04</td>\n",
       "    </tr>\n",
       "    <tr>\n",
       "      <th>4</th>\n",
       "      <td>C</td>\n",
       "      <td>25</td>\n",
       "      <td>2025-08-05</td>\n",
       "    </tr>\n",
       "  </tbody>\n",
       "</table>\n",
       "</div>"
      ],
      "text/plain": [
       "  category  value        date\n",
       "0        A     10  2025-08-01\n",
       "1        B     15  2025-08-02\n",
       "2        A     12  2025-08-03\n",
       "3        B     18  2025-08-04\n",
       "4        C     25  2025-08-05"
      ]
     },
     "execution_count": 2,
     "metadata": {},
     "output_type": "execute_result"
    }
   ],
   "source": [
    "import pandas as pd\n",
    "\n",
    "df = pd.read_csv(\"../data/starter_data.csv\")\n",
    "df.info()\n",
    "df.head()\n"
   ]
  },
  {
   "cell_type": "code",
   "execution_count": 3,
   "id": "2eed18e0-cd33-45cb-bc10-49b0272a28f6",
   "metadata": {},
   "outputs": [],
   "source": [
    "# .describe() for numeric columns\n",
    "summary_stats = df.describe()\n",
    "\n",
    "# Groupby aggregation (example: by 'category')\n",
    "grouped = df.groupby(\"category\")[\"value\"].mean()  # adjust column names as needed\n"
   ]
  },
  {
   "cell_type": "code",
   "execution_count": 4,
   "id": "c2d54250-bb91-419b-90e3-9efeb1dd902d",
   "metadata": {},
   "outputs": [
    {
     "data": {
      "image/png": "[encoded data removed]",
      "text/plain": [
       "<Figure size 640x480 with 1 Axes>"
      ]
     },
     "metadata": {},
     "output_type": "display_data"
    }
   ],
   "source": [
    "# Save as CSV\n",
    "import os\n",
    "os.makedirs(\"../data/processed\", exist_ok=True)\n",
    "\n",
    "summary_stats.to_csv(\"../data/processed/summary.csv\")\n",
    "grouped.to_csv(\"../data/processed/grouped_summary.csv\")\n",
    "\n",
    "# Bonus: Plot\n",
    "import matplotlib.pyplot as plt\n",
    "\n",
    "grouped.plot(kind=\"bar\")\n",
    "plt.title(\"Average Value by Category\")\n",
    "plt.ylabel(\"Value\")\n",
    "plt.tight_layout()\n",
    "plt.savefig(\"../data/processed/grouped_plot.png\")\n",
    "plt.show()\n"
   ]
  },
  {
   "cell_type": "code",
   "execution_count": 9,
   "id": "47151c55-83e2-4e9e-8ed6-b66f89caa6ea",
   "metadata": {},
   "outputs": [
    {
     "name": "stdout",
     "output_type": "stream",
     "text": [
      "           value\n",
      "count  10.000000\n",
      "mean   17.600000\n",
      "std     7.381659\n",
      "min    10.000000\n",
      "25%    12.250000\n",
      "50%    14.500000\n",
      "75%    23.250000\n",
      "max    30.000000\n"
     ]
    }
   ],
   "source": [
    "\n",
    "def get_summary_stats(dataframe):\n",
    "    \"\"\"Return basic summary statistics for numeric columns.\"\"\"\n",
    "    return dataframe.describe()\n",
    "\n",
    "\n",
    "print(get_summary_stats(df))\n"
   ]
  },
  {
   "cell_type": "code",
   "execution_count": 12,
   "id": "a4c4570f-91e8-477c-af12-7361a53c14e5",
   "metadata": {},
   "outputs": [
    {
     "ename": "ImportError",
     "evalue": "cannot import name 'get_summary_stats' from partially initialized module 'utils' (most likely due to a circular import) (C:\\Users\\Aniruddh Sharma\\bootcamp_Aniruddh_Sharma\\notebooks\\../src\\utils.py)",
     "output_type": "error",
     "traceback": [
      "\u001b[1;31m---------------------------------------------------------------------------\u001b[0m",
      "\u001b[1;31mImportError\u001b[0m                               Traceback (most recent call last)",
      "Cell \u001b[1;32mIn[12], line 4\u001b[0m\n\u001b[0;32m      1\u001b[0m \u001b[38;5;28;01mimport\u001b[39;00m \u001b[38;5;21;01msys\u001b[39;00m\n\u001b[0;32m      2\u001b[0m sys\u001b[38;5;241m.\u001b[39mpath\u001b[38;5;241m.\u001b[39mappend(\u001b[38;5;124m\"\u001b[39m\u001b[38;5;124m../src\u001b[39m\u001b[38;5;124m\"\u001b[39m)\n\u001b[1;32m----> 4\u001b[0m \u001b[38;5;28;01mfrom\u001b[39;00m \u001b[38;5;21;01mutils\u001b[39;00m \u001b[38;5;28;01mimport\u001b[39;00m get_summary_stats\n\u001b[0;32m      6\u001b[0m \u001b[38;5;28mprint\u001b[39m(get_summary_stats(df))\n",
      "File \u001b[1;32m~\\bootcamp_Aniruddh_Sharma\\notebooks\\../src\\utils.py:4\u001b[0m\n\u001b[0;32m      1\u001b[0m \u001b[38;5;28;01mimport\u001b[39;00m \u001b[38;5;21;01msys\u001b[39;00m\n\u001b[0;32m      2\u001b[0m sys\u001b[38;5;241m.\u001b[39mpath\u001b[38;5;241m.\u001b[39mappend(\u001b[38;5;124m\"\u001b[39m\u001b[38;5;124m../src\u001b[39m\u001b[38;5;124m\"\u001b[39m)\n\u001b[1;32m----> 4\u001b[0m \u001b[38;5;28;01mfrom\u001b[39;00m \u001b[38;5;21;01mutils\u001b[39;00m \u001b[38;5;28;01mimport\u001b[39;00m get_summary_stats\n\u001b[0;32m      6\u001b[0m \u001b[38;5;28mprint\u001b[39m(get_summary_stats(df))\n",
      "\u001b[1;31mImportError\u001b[0m: cannot import name 'get_summary_stats' from partially initialized module 'utils' (most likely due to a circular import) (C:\\Users\\Aniruddh Sharma\\bootcamp_Aniruddh_Sharma\\notebooks\\../src\\utils.py)"
     ]
    }
   ],
   "source": [
    "import sys\n",
    "sys.path.append(\"../src\")\n",
    "\n",
    "from utils import get_summary_stats\n",
    "\n",
    "print(get_summary_stats(df))\n"
   ]
  },
  {
   "cell_type": "code",
   "execution_count": null,
   "id": "750b002b-f568-4ad5-9a30-a1c810d85f71",
   "metadata": {},
   "outputs": [],
   "source": []
  }
 ],
 "metadata": {
  "kernelspec": {
   "display_name": "Python 3 (ipykernel)",
   "language": "python",
   "name": "python3"
  },
  "language_info": {
   "codemirror_mode": {
    "name": "ipython",
    "version": 3
   },
   "file_extension": ".py",
   "mimetype": "text/x-python",
   "name": "python",
   "nbconvert_exporter": "python",
   "pygments_lexer": "ipython3",
   "version": "3.12.7"
  }
 },
 "nbformat": 4,
 "nbformat_minor": 5
}
