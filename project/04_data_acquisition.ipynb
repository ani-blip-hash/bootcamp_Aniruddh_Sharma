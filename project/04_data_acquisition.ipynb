{
 "cells": [
  {
   "cell_type": "markdown",
   "metadata": {},
   "source": [
    "# Stage 04: Financial Data Acquisition\n",
    "\n",
    "This notebook demonstrates data acquisition from financial APIs for the Portfolio Risk Management System.\n",
    "\n",
    "## Objectives\n",
    "- Set up API connections (Alpha Vantage, yfinance)\n",
    "- Fetch historical stock data\n",
    "- Implement error handling and rate limiting\n",
    "- Save data with proper structure"
   ]
  },
  {
   "cell_type": "code",
   "execution_count": null,
   "metadata": {},
   "outputs": [],
   "source": [
    "import sys\n",
    "import os\n",
    "sys.path.append('../src')\n",
    "\n",
    "import pandas as pd\n",
    "import numpy as np\n",
    "from datetime import datetime\n",
    "import utils\n",
    "from dotenv import load_dotenv\n",
    "\n",
    "# Load environment variables\n",
    "load_dotenv('../.env')\n",
    "\n",
    "print(\"📊 Financial Data Acquisition Setup Complete\")"
   ]
  },
  {
   "cell_type": "markdown",
   "metadata": {},
   "source": [
    "## 1. Test API Connections"
   ]
  },
  {
   "cell_type": "code",
   "execution_count": null,
   "metadata": {},
   "outputs": [],
   "source": [
    "# Test yfinance connection (no API key required)\n",
    "test_symbol = \"AAPL\"\n",
    "print(f\"Testing yfinance connection with {test_symbol}...\")\n",
    "\n",
    "df_test = utils.fetch_yfinance(test_symbol, period=\"1mo\")\n",
    "if not df_test.empty:\n",
    "    print(f\"✅ yfinance working: {len(df_test)} records fetched\")\n",
    "    print(df_test.head())\n",
    "else:\n",
    "    print(\"❌ yfinance test failed\")"
   ]
  },
  {
   "cell_type": "markdown",
   "metadata": {},
   "source": [
    "## 2. Fetch Multiple Stock Data"
   ]
  },
  {
   "cell_type": "code",
   "execution_count": null,
   "metadata": {},
   "outputs": [],
   "source": [
    "# Define portfolio symbols for risk analysis\n",
    "portfolio_symbols = [\"AAPL\", \"MSFT\", \"GOOGL\", \"AMZN\", \"TSLA\"]\n",
    "\n",
    "print(f\"Fetching data for portfolio: {portfolio_symbols}\")\n",
    "\n",
    "# Fetch data using yfinance (reliable and free)\n",
    "portfolio_data = utils.fetch_multiple_stocks(\n",
    "    symbols=portfolio_symbols,\n",
    "    prefer_alphavantage=False,  # Use yfinance for reliability\n",
    "    period=\"6mo\"\n",
    ")\n",
    "\n",
    "if not portfolio_data.empty:\n",
    "    print(f\"\\n✅ Portfolio data fetched successfully\")\n",
    "    print(f\"Shape: {portfolio_data.shape}\")\n",
    "    print(f\"Date range: {portfolio_data['date'].min()} to {portfolio_data['date'].max()}\")\n",
    "    print(f\"Symbols: {portfolio_data['symbol'].unique()}\")\n",
    "else:\n",
    "    print(\"❌ Failed to fetch portfolio data\")"
   ]
  },
  {
   "cell_type": "markdown",
   "metadata": {},
   "source": [
    "## 3. Data Quality Assessment"
   ]
  },
  {
   "cell_type": "code",
   "execution_count": null,
   "metadata": {},
   "outputs": [],
   "source": [
    "if not portfolio_data.empty:\n",
    "    # Generate data quality report\n",
    "    quality_report = utils.data_quality_report(portfolio_data)\n",
    "    \n",
    "    print(\"📊 Data Quality Report:\")\n",
    "    print(f\"Shape: {quality_report['shape']}\")\n",
    "    print(f\"Memory usage: {quality_report['memory_usage_mb']:.2f} MB\")\n",
    "    print(f\"Duplicate rows: {quality_report['duplicate_rows']}\")\n",
    "    \n",
    "    print(\"\\nMissing data:\")\n",
    "    for col, count in quality_report['missing_data'].items():\n",
    "        if count > 0:\n",
    "            print(f\"  {col}: {count} missing values\")\n",
    "    \n",
    "    # Validate required columns\n",
    "    required_cols = ['date', 'open', 'high', 'low', 'close', 'volume', 'symbol']\n",
    "    try:\n",
    "        utils.validate_dataframe(portfolio_data, required_cols=required_cols)\n",
    "    except Exception as e:\n",
    "        print(f\"❌ Validation failed: {e}\")"
   ]
  },
  {
   "cell_type": "markdown",
   "metadata": {},
   "source": [
    "## 4. Save Raw Data"
   ]
  },
  {
   "cell_type": "code",
   "execution_count": null,
   "metadata": {},
   "outputs": [],
   "source": [
    "if not portfolio_data.empty:\n",
    "    # Save raw portfolio data\n",
    "    saved_path = utils.save_with_timestamp(\n",
    "        df=portfolio_data,\n",
    "        prefix=\"portfolio_raw\",\n",
    "        source=\"financial_apis\",\n",
    "        ext=\"csv\"\n",
    "    )\n",
    "    \n",
    "    print(f\"💾 Raw data saved to: {saved_path}\")\n",
    "    \n",
    "    # Also save as JSON for backup\n",
    "    json_path = utils.save_with_timestamp(\n",
    "        df=portfolio_data,\n",
    "        prefix=\"portfolio_raw\",\n",
    "        source=\"financial_apis\",\n",
    "        ext=\"json\"\n",
    "    )\n",
    "    \n",
    "    print(f\"💾 Backup JSON saved to: {json_path}\")"
   ]
  },
  {
   "cell_type": "markdown",
   "metadata": {},
   "source": [
    "## 5. Summary and Next Steps"
   ]
  },
  {
   "cell_type": "code",
   "execution_count": null,
   "metadata": {},
   "outputs": [],
   "source": [
    "print(\"\\n🎯 Stage 04 Summary:\")\nprint(\"✅ API connections tested\")\nprint(\"✅ Portfolio data acquired\")\nprint(\"✅ Data quality assessed\")\nprint(\"✅ Raw data saved with timestamps\")\n\nprint(\"\\n📋 Next Steps:\")\nprint(\"- Stage 05: Set up data storage infrastructure\")\nprint(\"- Stage 06: Create preprocessing pipeline\")\nprint(\"- Stage 07: Build risk analysis models\")"
   ]
  }
 ],
 "metadata": {
  "kernelspec": {
   "display_name": "Python 3",
   "language": "python",
   "name": "python3"
  },
  "language_info": {
   "codemirror_mode": {
    "name": "ipython",
    "version": 3
   },
   "file_extension": ".py",
   "name": "python",
   "nbconvert_exporter": "python",
   "pygments_lexer": "ipython3",
   "version": "3.9.6"
  }
 },
 "nbformat": 4,
 "nbformat_minor": 4
}
