{
 "cells": [
  {
   "cell_type": "markdown",
   "metadata": {},
   "source": [
    "# Stage 04: Financial Data Acquisition\n",
    "\n",
    "This notebook demonstrates data acquisition from financial APIs for the Portfolio Risk Management System.\n",
    "\n",
    "## Objectives\n",
    "- Set up API connections (Alpha Vantage, yfinance)\n",
    "- Fetch historical stock data\n",
    "- Implement error handling and rate limiting\n",
    "- Save data with proper structure"
   ]
  },
  {
   "cell_type": "code",
   "execution_count": 1,
   "metadata": {},
   "outputs": [
    {
     "name": "stdout",
     "output_type": "stream",
     "text": [
      "📊 Financial Data Acquisition Setup Complete\n"
     ]
    }
   ],
   "source": [
    "import sys\n",
    "import os\n",
    "sys.path.append('../src')\n",
    "\n",
    "import pandas as pd\n",
    "import numpy as np\n",
    "from datetime import datetime\n",
    "import utils\n",
    "from dotenv import load_dotenv\n",
    "\n",
    "# Load environment variables\n",
    "load_dotenv('../.env')\n",
    "\n",
    "print(\"📊 Financial Data Acquisition Setup Complete\")"
   ]
  },
  {
   "cell_type": "markdown",
   "metadata": {},
   "source": [
    "## 1. Test API Connections"
   ]
  },
  {
   "cell_type": "code",
   "execution_count": 2,
   "metadata": {},
   "outputs": [
    {
     "name": "stdout",
     "output_type": "stream",
     "text": [
      "Testing yfinance connection with AAPL...\n",
      "📈 Fetching AAPL data (period=1mo, interval=1d)\n",
      "✅ Fetched 23 records for AAPL\n",
      "✅ yfinance working: 23 records fetched\n",
      "                       date        open        high         low       close  \\\n",
      "0 2025-07-23 00:00:00-04:00  214.756269  214.906093  212.169209  213.907227   \n",
      "1 2025-07-24 00:00:00-04:00  213.657510  215.445490  213.287935  213.517670   \n",
      "2 2025-07-25 00:00:00-04:00  214.456605  214.996002  213.158076  213.637543   \n",
      "3 2025-07-28 00:00:00-04:00  213.787376  214.606454  212.818475  213.807358   \n",
      "4 2025-07-29 00:00:00-04:00  213.937192  214.566483  210.581016  211.030502   \n",
      "\n",
      "     volume  dividends  stock_splits symbol            fetch_timestamp  \\\n",
      "0  46989300        0.0           0.0   AAPL 2025-08-24 17:35:04.536761   \n",
      "1  46022600        0.0           0.0   AAPL 2025-08-24 17:35:04.536761   \n",
      "2  40268800        0.0           0.0   AAPL 2025-08-24 17:35:04.536761   \n",
      "3  37858000        0.0           0.0   AAPL 2025-08-24 17:35:04.536761   \n",
      "4  51411700        0.0           0.0   AAPL 2025-08-24 17:35:04.536761   \n",
      "\n",
      "  data_source  \n",
      "0    yfinance  \n",
      "1    yfinance  \n",
      "2    yfinance  \n",
      "3    yfinance  \n",
      "4    yfinance  \n"
     ]
    }
   ],
   "source": [
    "# Test yfinance connection (no API key required)\n",
    "test_symbol = \"AAPL\"\n",
    "print(f\"Testing yfinance connection with {test_symbol}...\")\n",
    "\n",
    "df_test = utils.fetch_yfinance(test_symbol, period=\"1mo\")\n",
    "if not df_test.empty:\n",
    "    print(f\"✅ yfinance working: {len(df_test)} records fetched\")\n",
    "    print(df_test.head())\n",
    "else:\n",
    "    print(\"❌ yfinance test failed\")"
   ]
  },
  {
   "cell_type": "markdown",
   "metadata": {},
   "source": [
    "## 2. Fetch Multiple Stock Data"
   ]
  },
  {
   "cell_type": "code",
   "execution_count": 3,
   "metadata": {},
   "outputs": [
    {
     "name": "stdout",
     "output_type": "stream",
     "text": [
      "Fetching data for portfolio: ['AAPL', 'MSFT', 'GOOGL', 'AMZN', 'TSLA']\n",
      "📈 Using yfinance fallback for AAPL\n",
      "📈 Fetching AAPL data (period=6mo, interval=1d)\n",
      "✅ Fetched 126 records for AAPL\n",
      "📈 Using yfinance fallback for MSFT\n",
      "📈 Fetching MSFT data (period=6mo, interval=1d)\n",
      "✅ Fetched 126 records for MSFT\n",
      "📈 Using yfinance fallback for GOOGL\n",
      "📈 Fetching GOOGL data (period=6mo, interval=1d)\n",
      "✅ Fetched 126 records for GOOGL\n",
      "📈 Using yfinance fallback for AMZN\n",
      "📈 Fetching AMZN data (period=6mo, interval=1d)\n",
      "✅ Fetched 126 records for AMZN\n",
      "📈 Using yfinance fallback for TSLA\n",
      "📈 Fetching TSLA data (period=6mo, interval=1d)\n",
      "✅ Fetched 126 records for TSLA\n",
      "✅ Combined data for 5 symbols: (630, 11)\n",
      "📊 Data sources used: {'yfinance': np.int64(630)}\n",
      "\n",
      "✅ Portfolio data fetched successfully\n",
      "Shape: (630, 11)\n",
      "Date range: 2025-02-24 00:00:00-05:00 to 2025-08-22 00:00:00-04:00\n",
      "Symbols: ['AAPL' 'MSFT' 'GOOGL' 'AMZN' 'TSLA']\n"
     ]
    }
   ],
   "source": [
    "# Define portfolio symbols for risk analysis\n",
    "portfolio_symbols = [\"AAPL\", \"MSFT\", \"GOOGL\", \"AMZN\", \"TSLA\"]\n",
    "\n",
    "print(f\"Fetching data for portfolio: {portfolio_symbols}\")\n",
    "\n",
    "# Fetch data using yfinance (reliable and free)\n",
    "portfolio_data = utils.fetch_multiple_stocks(\n",
    "    symbols=portfolio_symbols,\n",
    "    prefer_alphavantage=False,  # Use yfinance for reliability\n",
    "    period=\"6mo\"\n",
    ")\n",
    "\n",
    "if not portfolio_data.empty:\n",
    "    print(f\"\\n✅ Portfolio data fetched successfully\")\n",
    "    print(f\"Shape: {portfolio_data.shape}\")\n",
    "    print(f\"Date range: {portfolio_data['date'].min()} to {portfolio_data['date'].max()}\")\n",
    "    print(f\"Symbols: {portfolio_data['symbol'].unique()}\")\n",
    "else:\n",
    "    print(\"❌ Failed to fetch portfolio data\")"
   ]
  },
  {
   "cell_type": "markdown",
   "metadata": {},
   "source": [
    "## 3. Data Quality Assessment"
   ]
  },
  {
   "cell_type": "code",
   "execution_count": 4,
   "metadata": {},
   "outputs": [
    {
     "name": "stdout",
     "output_type": "stream",
     "text": [
      "📊 Data Quality Report:\n",
      "Shape: (630, 11)\n",
      "Memory usage: 0.11 MB\n",
      "Duplicate rows: 0\n",
      "\n",
      "Missing data:\n",
      "\n",
      "🔍 Validating DataFrame...\n",
      "✅ Validation passed!\n",
      "   Shape: (630, 11)\n",
      "   Columns: ['date', 'open', 'high', 'low', 'close', 'volume', 'dividends', 'stock_splits', 'symbol', 'fetch_timestamp', 'data_source']\n",
      "✅ No missing data found\n",
      "   Memory usage: 0.11 MB\n"
     ]
    }
   ],
   "source": [
    "if not portfolio_data.empty:\n",
    "    # Generate data quality report\n",
    "    quality_report = utils.data_quality_report(portfolio_data)\n",
    "    \n",
    "    print(\"📊 Data Quality Report:\")\n",
    "    print(f\"Shape: {quality_report['shape']}\")\n",
    "    print(f\"Memory usage: {quality_report['memory_usage_mb']:.2f} MB\")\n",
    "    print(f\"Duplicate rows: {quality_report['duplicate_rows']}\")\n",
    "    \n",
    "    print(\"\\nMissing data:\")\n",
    "    for col, count in quality_report['missing_data'].items():\n",
    "        if count > 0:\n",
    "            print(f\"  {col}: {count} missing values\")\n",
    "    \n",
    "    # Validate required columns\n",
    "    required_cols = ['date', 'open', 'high', 'low', 'close', 'volume', 'symbol']\n",
    "    try:\n",
    "        utils.validate_dataframe(portfolio_data, required_cols=required_cols)\n",
    "    except Exception as e:\n",
    "        print(f\"❌ Validation failed: {e}\")"
   ]
  },
  {
   "cell_type": "markdown",
   "metadata": {},
   "source": [
    "## 4. Save Raw Data"
   ]
  },
  {
   "cell_type": "code",
   "execution_count": 5,
   "metadata": {},
   "outputs": [
    {
     "name": "stdout",
     "output_type": "stream",
     "text": [
      "💾 Saved 630 rows to ./data/financial_apis/portfolio_raw_20250824_173509.csv\n",
      "💾 Raw data saved to: ./data/financial_apis/portfolio_raw_20250824_173509.csv\n",
      "💾 Saved 630 rows to ./data/financial_apis/portfolio_raw_20250824_173509.json\n",
      "💾 Backup JSON saved to: ./data/financial_apis/portfolio_raw_20250824_173509.json\n"
     ]
    }
   ],
   "source": [
    "if not portfolio_data.empty:\n",
    "    # Save raw portfolio data\n",
    "    saved_path = utils.save_with_timestamp(\n",
    "        df=portfolio_data,\n",
    "        prefix=\"portfolio_raw\",\n",
    "        source=\"financial_apis\",\n",
    "        ext=\"csv\"\n",
    "    )\n",
    "    \n",
    "    print(f\"💾 Raw data saved to: {saved_path}\")\n",
    "    \n",
    "    # Also save as JSON for backup\n",
    "    json_path = utils.save_with_timestamp(\n",
    "        df=portfolio_data,\n",
    "        prefix=\"portfolio_raw\",\n",
    "        source=\"financial_apis\",\n",
    "        ext=\"json\"\n",
    "    )\n",
    "    \n",
    "    print(f\"💾 Backup JSON saved to: {json_path}\")"
   ]
  },
  {
   "cell_type": "markdown",
   "metadata": {},
   "source": [
    "## 5. Summary and Next Steps"
   ]
  },
  {
   "cell_type": "code",
   "execution_count": 6,
   "metadata": {},
   "outputs": [
    {
     "name": "stdout",
     "output_type": "stream",
     "text": [
      "\n",
      "🎯 Stage 04 Summary:\n",
      "✅ API connections tested\n",
      "✅ Portfolio data acquired\n",
      "✅ Data quality assessed\n",
      "✅ Raw data saved with timestamps\n",
      "\n",
      "📋 Next Steps:\n",
      "- Stage 05: Set up data storage infrastructure\n",
      "- Stage 06: Create preprocessing pipeline\n",
      "- Stage 07: Build risk analysis models\n"
     ]
    }
   ],
   "source": [
    "print(\"\\n🎯 Stage 04 Summary:\")\n",
    "print(\"✅ API connections tested\")\n",
    "print(\"✅ Portfolio data acquired\")\n",
    "print(\"✅ Data quality assessed\")\n",
    "print(\"✅ Raw data saved with timestamps\")\n",
    "\n",
    "print(\"\\n📋 Next Steps:\")\n",
    "print(\"- Stage 05: Set up data storage infrastructure\")\n",
    "print(\"- Stage 06: Create preprocessing pipeline\")\n",
    "print(\"- Stage 07: Build risk analysis models\")"
   ]
  },
  {
   "cell_type": "code",
   "execution_count": null,
   "metadata": {},
   "outputs": [],
   "source": []
  },
  {
   "cell_type": "code",
   "execution_count": null,
   "metadata": {},
   "outputs": [],
   "source": []
  }
 ],
 "metadata": {
  "kernelspec": {
   "display_name": "Python [conda env:base] *",
   "language": "python",
   "name": "conda-base-py"
  },
  "language_info": {
   "codemirror_mode": {
    "name": "ipython",
    "version": 3
   },
   "file_extension": ".py",
   "mimetype": "text/x-python",
   "name": "python",
   "nbconvert_exporter": "python",
   "pygments_lexer": "ipython3",
   "version": "3.13.5"
  }
 },
 "nbformat": 4,
 "nbformat_minor": 4
}
