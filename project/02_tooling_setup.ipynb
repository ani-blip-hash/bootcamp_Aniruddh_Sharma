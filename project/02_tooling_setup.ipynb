{
 "cells": [
  {
   "cell_type": "markdown",
   "metadata": {},
   "source": [
    "# Stage 02: Project Tooling and Environment Setup\n",
    "\n",
    "This notebook sets up the development environment, dependencies, and project structure for the Portfolio Risk Management System.\n",
    "\n",
    "## Objectives\n",
    "- Configure Python environment and dependencies\n",
    "- Set up project directory structure\n",
    "- Configure version control and documentation\n",
    "- Test core functionality"
   ]
  },
  {
   "cell_type": "markdown",
   "metadata": {},
   "source": [
    "## 1. Environment Setup"
   ]
  },
  {
   "cell_type": "code",
   "execution_count": 7,
   "metadata": {},
   "outputs": [
    {
     "name": "stdout",
     "output_type": "stream",
     "text": [
      "Collecting yfinance\n",
      "  Downloading yfinance-0.2.65-py2.py3-none-any.whl.metadata (5.8 kB)\n",
      "Requirement already satisfied: pandas>=1.3.0 in /opt/anaconda3/lib/python3.13/site-packages (from yfinance) (2.2.3)\n",
      "Requirement already satisfied: numpy>=1.16.5 in /opt/anaconda3/lib/python3.13/site-packages (from yfinance) (2.1.3)\n",
      "Requirement already satisfied: requests>=2.31 in /opt/anaconda3/lib/python3.13/site-packages (from yfinance) (2.32.3)\n",
      "Collecting multitasking>=0.0.7 (from yfinance)\n",
      "  Downloading multitasking-0.0.12.tar.gz (19 kB)\n",
      "  Preparing metadata (setup.py) ... \u001b[?25ldone\n",
      "\u001b[?25hRequirement already satisfied: platformdirs>=2.0.0 in /opt/anaconda3/lib/python3.13/site-packages (from yfinance) (4.3.7)\n",
      "Requirement already satisfied: pytz>=2022.5 in /opt/anaconda3/lib/python3.13/site-packages (from yfinance) (2024.1)\n",
      "Requirement already satisfied: frozendict>=2.3.4 in /opt/anaconda3/lib/python3.13/site-packages (from yfinance) (2.4.2)\n",
      "Collecting peewee>=3.16.2 (from yfinance)\n",
      "  Downloading peewee-3.18.2.tar.gz (949 kB)\n",
      "\u001b[2K     \u001b[90m━━━━━━━━━━━━━━━━━━━━━━━━━━━━━━━━━━━━━━\u001b[0m \u001b[32m949.2/949.2 kB\u001b[0m \u001b[31m19.1 MB/s\u001b[0m eta \u001b[36m0:00:00\u001b[0m\n",
      "  Installing build dependencies ... \u001b[?done\n",
      "\u001b[?25h  Getting requirements to build wheel ... \u001b[?25ldone\n",
      "\u001b[?25h  Preparing metadata (pyproject.toml) ... \u001b[?25ldone\n",
      "\u001b[?25hRequirement already satisfied: beautifulsoup4>=4.11.1 in /opt/anaconda3/lib/python3.13/site-packages (from yfinance) (4.12.3)\n",
      "Collecting curl_cffi>=0.7 (from yfinance)\n",
      "  Downloading curl_cffi-0.13.0-cp39-abi3-macosx_11_0_arm64.whl.metadata (13 kB)\n",
      "Requirement already satisfied: protobuf>=3.19.0 in /opt/anaconda3/lib/python3.13/site-packages (from yfinance) (5.29.3)\n",
      "Collecting websockets>=13.0 (from yfinance)\n",
      "  Downloading websockets-15.0.1-cp313-cp313-macosx_11_0_arm64.whl.metadata (6.8 kB)\n",
      "Requirement already satisfied: soupsieve>1.2 in /opt/anaconda3/lib/python3.13/site-packages (from beautifulsoup4>=4.11.1->yfinance) (2.5)\n",
      "Requirement already satisfied: cffi>=1.12.0 in /opt/anaconda3/lib/python3.13/site-packages (from curl_cffi>=0.7->yfinance) (1.17.1)\n",
      "Requirement already satisfied: certifi>=2024.2.2 in /opt/anaconda3/lib/python3.13/site-packages (from curl_cffi>=0.7->yfinance) (2025.8.3)\n",
      "Requirement already satisfied: pycparser in /opt/anaconda3/lib/python3.13/site-packages (from cffi>=1.12.0->curl_cffi>=0.7->yfinance) (2.21)\n",
      "Requirement already satisfied: python-dateutil>=2.8.2 in /opt/anaconda3/lib/python3.13/site-packages (from pandas>=1.3.0->yfinance) (2.9.0.post0)\n",
      "Requirement already satisfied: tzdata>=2022.7 in /opt/anaconda3/lib/python3.13/site-packages (from pandas>=1.3.0->yfinance) (2025.2)\n",
      "Requirement already satisfied: six>=1.5 in /opt/anaconda3/lib/python3.13/site-packages (from python-dateutil>=2.8.2->pandas>=1.3.0->yfinance) (1.17.0)\n",
      "Requirement already satisfied: charset-normalizer<4,>=2 in /opt/anaconda3/lib/python3.13/site-packages (from requests>=2.31->yfinance) (3.3.2)\n",
      "Requirement already satisfied: idna<4,>=2.5 in /opt/anaconda3/lib/python3.13/site-packages (from requests>=2.31->yfinance) (3.7)\n",
      "Requirement already satisfied: urllib3<3,>=1.21.1 in /opt/anaconda3/lib/python3.13/site-packages (from requests>=2.31->yfinance) (2.3.0)\n",
      "Downloading yfinance-0.2.65-py2.py3-none-any.whl (119 kB)\n",
      "Downloading curl_cffi-0.13.0-cp39-abi3-macosx_11_0_arm64.whl (3.0 MB)\n",
      "\u001b[2K   \u001b[90m━━━━━━━━━━━━━━━━━━━━━━━━━━━━━━━━━━━━━━━━\u001b[0m \u001b[32m3.0/3.0 MB\u001b[0m \u001b[31m25.7 MB/s\u001b[0m eta \u001b[36m0:00:00\u001b[0m\n",
      "Downloading websockets-15.0.1-cp313-cp313-macosx_11_0_arm64.whl (173 kB)\n",
      "Building wheels for collected packages: multitasking, peewee\n",
      "\u001b[33m  DEPRECATION: Building 'multitasking' using the legacy setup.py bdist_wheel mechanism, which will be removed in a future version. pip 25.3 will enforce this behaviour change. A possible replacement is to use the standardized build interface by setting the `--use-pep517` option, (possibly combined with `--no-build-isolation`), or adding a `pyproject.toml` file to the source tree of 'multitasking'. Discussion can be found at https://github.com/pypa/pip/issues/6334\u001b[0m\u001b[33m\n",
      "  Building wheel for multitasking (setup.py) ... \u001b[?25ldone\n",
      "\u001b[?25h  Created wheel for multitasking: filename=multitasking-0.0.12-py3-none-any.whl size=15548 sha256=49bd78bbe95926cd120808aad33b9e6c0030c36c266da27825822d1a5fd22bb0\n",
      "  Stored in directory: /Users/aniruddhsharma/Library/Caches/pip/wheels/1e/df/0f/e2bbb22d689b30c681feb5410ab64a2523437b34c8ecfc6476\n",
      "  Building wheel for peewee (pyproject.toml) ... \u001b[?done\n",
      "\u001b[?25h  Created wheel for peewee: filename=peewee-3.18.2-cp313-cp313-macosx_11_0_arm64.whl size=270337 sha256=8b57219c8112408783feb272ac7434dd0af61612c51e76f15d427f2823ffbbb8\n",
      "  Stored in directory: /Users/aniruddhsharma/Library/Caches/pip/wheels/1c/48/cc/00b7d0e7defa21a58915654917c89eaedd32a6e614d8e4ad92\n",
      "Successfully built multitasking peewee\n",
      "Installing collected packages: peewee, multitasking, websockets, curl_cffi, yfinance\n",
      "\u001b[2K   \u001b[90m━━━━━━━━━━━━━━━━━━━━━━━━━━━━━━━━━━━━━━━━\u001b[0m \u001b[32m5/5\u001b[0m [yfinance]4/5\u001b[0m [yfinance]\n",
      "Successfully installed curl_cffi-0.13.0 multitasking-0.0.12 peewee-3.18.2 websockets-15.0.1 yfinance-0.2.65\n",
      "Note: you may need to restart the kernel to use updated packages.\n"
     ]
    }
   ],
   "source": [
    "pip install yfinance"
   ]
  },
  {
   "cell_type": "code",
   "execution_count": 8,
   "metadata": {},
   "outputs": [
    {
     "name": "stdout",
     "output_type": "stream",
     "text": [
      "🔧 Setting up Portfolio Risk Management System\n",
      "Python version: 3.13.5 | packaged by Anaconda, Inc. | (main, Jun 12 2025, 11:23:37) [Clang 14.0.6 ]\n",
      "Working directory: /Users/aniruddhsharma/Projects/bootcamp_Aniruddh_Sharma/project\n"
     ]
    }
   ],
   "source": [
    "import sys\n",
    "import os\n",
    "import subprocess\n",
    "import yfinance\n",
    "from pathlib import Path\n",
    "\n",
    "print(\"🔧 Setting up Portfolio Risk Management System\")\n",
    "print(f\"Python version: {sys.version}\")\n",
    "print(f\"Working directory: {os.getcwd()}\")"
   ]
  },
  {
   "cell_type": "markdown",
   "metadata": {},
   "source": [
    "## 2. Dependencies Installation"
   ]
  },
  {
   "cell_type": "code",
   "execution_count": 9,
   "metadata": {},
   "outputs": [
    {
     "name": "stdout",
     "output_type": "stream",
     "text": [
      "✅ requirements.txt found\n",
      "\n",
      "📦 Required packages:\n",
      "  - pandas>=2.0.0\n",
      "  - numpy>=1.24.0\n",
      "  - matplotlib>=3.5.0\n",
      "  - seaborn>=0.11.0\n",
      "  - scikit-learn>=1.0.0\n",
      "  - yfinance>=0.2.0\n",
      "  - alpha_vantage>=2.3.0\n",
      "  - pandas-datareader>=0.10.0\n",
      "  - scipy>=1.9.0\n",
      "  - cvxpy>=1.3.0\n",
      "  - PyPortfolioOpt>=1.5.0\n",
      "  - arch>=5.3.0\n",
      "  - statsmodels>=0.14.0\n",
      "  - plotly>=5.0.0\n",
      "  - dash>=2.0.0\n",
      "  - requests>=2.25.0\n",
      "  - beautifulsoup4>=4.10.0\n",
      "  - sqlalchemy>=1.4.0\n",
      "  - jupyter>=1.0.0\n",
      "  - ipykernel>=6.0.0\n",
      "  - python-dotenv>=0.19.0\n",
      "  - pyyaml>=6.0.0\n"
     ]
    }
   ],
   "source": [
    "# Check if requirements.txt exists\n",
    "requirements_file = Path('../requirements.txt')\n",
    "\n",
    "if requirements_file.exists():\n",
    "    print(\"✅ requirements.txt found\")\n",
    "    \n",
    "    # Display requirements\n",
    "    with open(requirements_file, 'r') as f:\n",
    "        requirements = f.read()\n",
    "    \n",
    "    print(\"\\n📦 Required packages:\")\n",
    "    for line in requirements.split('\\n'):\n",
    "        if line.strip() and not line.startswith('#'):\n",
    "            print(f\"  - {line.strip()}\")\n",
    "else:\n",
    "    print(\"❌ requirements.txt not found\")"
   ]
  },
  {
   "cell_type": "markdown",
   "metadata": {},
   "source": [
    "## 3. Project Structure Validation"
   ]
  },
  {
   "cell_type": "code",
   "execution_count": 10,
   "metadata": {},
   "outputs": [
    {
     "name": "stdout",
     "output_type": "stream",
     "text": [
      "📁 Validating project structure:\n",
      "✅ src/            - Source code modules\n",
      "✅ data/raw/       - Raw data storage\n",
      "✅ data/processed/ - Processed data storage\n",
      "✅ project/        - Jupyter notebooks\n",
      "✅ docs/           - Documentation\n",
      "✅ homework/       - Homework assignments\n"
     ]
    }
   ],
   "source": [
    "# Define expected project structure\n",
    "expected_structure = {\n",
    "    'src/': 'Source code modules',\n",
    "    'data/raw/': 'Raw data storage',\n",
    "    'data/processed/': 'Processed data storage',\n",
    "    'project/': 'Jupyter notebooks',\n",
    "    'docs/': 'Documentation',\n",
    "    'homework/': 'Homework assignments'\n",
    "}\n",
    "\n",
    "print(\"📁 Validating project structure:\")\n",
    "for directory, description in expected_structure.items():\n",
    "    dir_path = Path(f'../{directory}')\n",
    "    if dir_path.exists():\n",
    "        print(f\"✅ {directory:<15} - {description}\")\n",
    "    else:\n",
    "        print(f\"❌ {directory:<15} - Missing: {description}\")\n",
    "        # Create missing directories\n",
    "        dir_path.mkdir(parents=True, exist_ok=True)\n",
    "        print(f\"   Created: {directory}\")"
   ]
  },
  {
   "cell_type": "markdown",
   "metadata": {},
   "source": [
    "## 4. Core Module Testing"
   ]
  },
  {
   "cell_type": "code",
   "execution_count": 11,
   "metadata": {},
   "outputs": [
    {
     "name": "stdout",
     "output_type": "stream",
     "text": [
      "✅ Core data science libraries imported\n",
      "   - pandas: 2.2.3\n",
      "   - numpy: 2.1.3\n",
      "✅ utils module imported successfully\n",
      "✅ cleaning module imported successfully\n"
     ]
    }
   ],
   "source": [
    "# Test core module imports\n",
    "sys.path.append('../src')\n",
    "\n",
    "try:\n",
    "    import pandas as pd\n",
    "    import numpy as np\n",
    "    print(\"✅ Core data science libraries imported\")\n",
    "    print(f\"   - pandas: {pd.__version__}\")\n",
    "    print(f\"   - numpy: {np.__version__}\")\n",
    "except ImportError as e:\n",
    "    print(f\"❌ Failed to import core libraries: {e}\")\n",
    "\n",
    "try:\n",
    "    import utils\n",
    "    print(\"✅ utils module imported successfully\")\n",
    "except ImportError as e:\n",
    "    print(f\"❌ Failed to import utils: {e}\")\n",
    "\n",
    "try:\n",
    "    import cleaning\n",
    "    print(\"✅ cleaning module imported successfully\")\n",
    "except ImportError as e:\n",
    "    print(f\"❌ Failed to import cleaning: {e}\")"
   ]
  },
  {
   "cell_type": "markdown",
   "metadata": {},
   "source": [
    "## 5. Financial Libraries Testing"
   ]
  },
  {
   "cell_type": "code",
   "execution_count": 12,
   "metadata": {},
   "outputs": [
    {
     "name": "stdout",
     "output_type": "stream",
     "text": [
      "📊 Testing financial libraries:\n",
      "✅ yfinance             - Yahoo Finance data\n",
      "❌ alpha_vantage        - Not installed: Alpha Vantage API\n",
      "❌ pandas_datareader    - Not installed: Financial data reader\n",
      "✅ scipy                - Scientific computing\n",
      "✅ plotly               - Interactive visualization\n"
     ]
    }
   ],
   "source": [
    "# Test financial data libraries\n",
    "financial_libs = {\n",
    "    'yfinance': 'Yahoo Finance data',\n",
    "    'alpha_vantage': 'Alpha Vantage API',\n",
    "    'pandas_datareader': 'Financial data reader',\n",
    "    'scipy': 'Scientific computing',\n",
    "    'plotly': 'Interactive visualization'\n",
    "}\n",
    "\n",
    "print(\"📊 Testing financial libraries:\")\n",
    "for lib, description in financial_libs.items():\n",
    "    try:\n",
    "        __import__(lib)\n",
    "        print(f\"✅ {lib:<20} - {description}\")\n",
    "    except ImportError:\n",
    "        print(f\"❌ {lib:<20} - Not installed: {description}\")"
   ]
  },
  {
   "cell_type": "markdown",
   "metadata": {},
   "source": [
    "## 6. Configuration Files"
   ]
  },
  {
   "cell_type": "code",
   "execution_count": 13,
   "metadata": {},
   "outputs": [
    {
     "name": "stdout",
     "output_type": "stream",
     "text": [
      "⚙️ Checking configuration files:\n",
      "✅ .gitignore      - Git ignore patterns\n",
      "✅ .env.example    - Environment variables template\n",
      "✅ README.md       - Project documentation\n"
     ]
    }
   ],
   "source": [
    "# Check configuration files\n",
    "config_files = {\n",
    "    '../.gitignore': 'Git ignore patterns',\n",
    "    '../.env.example': 'Environment variables template',\n",
    "    '../README.md': 'Project documentation'\n",
    "}\n",
    "\n",
    "print(\"⚙️ Checking configuration files:\")\n",
    "for file_path, description in config_files.items():\n",
    "    if Path(file_path).exists():\n",
    "        print(f\"✅ {Path(file_path).name:<15} - {description}\")\n",
    "    else:\n",
    "        print(f\"❌ {Path(file_path).name:<15} - Missing: {description}\")"
   ]
  },
  {
   "cell_type": "markdown",
   "metadata": {},
   "source": [
    "## 7. Quick Functionality Test"
   ]
  },
  {
   "cell_type": "code",
   "execution_count": 14,
   "metadata": {},
   "outputs": [
    {
     "name": "stdout",
     "output_type": "stream",
     "text": [
      "📈 Fetching AAPL data (period=5d, interval=1d)\n",
      "✅ Fetched 5 records for AAPL\n",
      "✅ Data fetching works: 5 records\n",
      "   Columns: ['date', 'open', 'high', 'low', 'close', 'volume', 'dividends', 'stock_splits', 'symbol', 'fetch_timestamp', 'data_source']\n"
     ]
    }
   ],
   "source": [
    "# Test basic functionality\n",
    "if 'utils' in locals():\n",
    "    try:\n",
    "        # Test data fetching capability\n",
    "        test_data = utils.fetch_yfinance('AAPL', period='5d')\n",
    "        if not test_data.empty:\n",
    "            print(f\"✅ Data fetching works: {len(test_data)} records\")\n",
    "            print(f\"   Columns: {list(test_data.columns)}\")\n",
    "        else:\n",
    "            print(\"⚠️ Data fetching returned empty result\")\n",
    "    except Exception as e:\n",
    "        print(f\"❌ Data fetching failed: {e}\")\n",
    "else:\n",
    "    print(\"⚠️ Utils module not available for testing\")"
   ]
  },
  {
   "cell_type": "markdown",
   "metadata": {},
   "source": [
    "## 8. Development Environment Summary"
   ]
  },
  {
   "cell_type": "code",
   "execution_count": 15,
   "metadata": {},
   "outputs": [
    {
     "name": "stdout",
     "output_type": "stream",
     "text": [
      "\n",
      "🎯 Stage 02 Summary:\n",
      "✅ Python environment configured\n",
      "✅ Project structure validated\n",
      "✅ Dependencies checked\n",
      "✅ Core modules tested\n",
      "✅ Configuration files verified\n",
      "\n",
      "📋 Environment Ready For:\n",
      "  - Financial data acquisition\n",
      "  - Data processing and analysis\n",
      "  - Risk modeling and optimization\n",
      "  - Interactive development\n",
      "\n",
      "🚀 Ready to proceed to Stage 03: Python Fundamentals\n"
     ]
    }
   ],
   "source": [
    "print(\"\\n🎯 Stage 02 Summary:\")\n",
    "print(\"✅ Python environment configured\")\n",
    "print(\"✅ Project structure validated\")\n",
    "print(\"✅ Dependencies checked\")\n",
    "print(\"✅ Core modules tested\")\n",
    "print(\"✅ Configuration files verified\")\n",
    "\n",
    "print(\"\\n📋 Environment Ready For:\")\n",
    "print(\"  - Financial data acquisition\")\n",
    "print(\"  - Data processing and analysis\")\n",
    "print(\"  - Risk modeling and optimization\")\n",
    "print(\"  - Interactive development\")\n",
    "\n",
    "print(\"\\n🚀 Ready to proceed to Stage 03: Python Fundamentals\")"
   ]
  },
  {
   "cell_type": "code",
   "execution_count": null,
   "metadata": {},
   "outputs": [],
   "source": []
  },
  {
   "cell_type": "code",
   "execution_count": null,
   "metadata": {},
   "outputs": [],
   "source": []
  },
  {
   "cell_type": "code",
   "execution_count": null,
   "metadata": {},
   "outputs": [],
   "source": []
  }
 ],
 "metadata": {
  "kernelspec": {
   "display_name": "Python [conda env:base] *",
   "language": "python",
   "name": "conda-base-py"
  },
  "language_info": {
   "codemirror_mode": {
    "name": "ipython",
    "version": 3
   },
   "file_extension": ".py",
   "mimetype": "text/x-python",
   "name": "python",
   "nbconvert_exporter": "python",
   "pygments_lexer": "ipython3",
   "version": "3.13.5"
  }
 },
 "nbformat": 4,
 "nbformat_minor": 4
}
