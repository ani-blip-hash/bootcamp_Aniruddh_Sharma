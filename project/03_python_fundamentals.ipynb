{
 "cells": [
  {
   "cell_type": "markdown",
   "metadata": {},
   "source": [
    "# Stage 03: Python Fundamentals for Financial Engineering\n",
    "\n",
    "This notebook demonstrates core Python utilities and functions specifically designed for financial data analysis and risk management.\n",
    "\n",
    "## Objectives\n",
    "- Demonstrate financial utility functions\n",
    "- Test data cleaning capabilities\n",
    "- Validate risk calculation functions\n",
    "- Show modular code organization"
   ]
  },
  {
   "cell_type": "code",
   "execution_count": null,
   "metadata": {},
   "outputs": [],
   "source": [
    "import sys\n",
    "import os\n",
    "sys.path.append('../src')\n",
    "\n",
    "import pandas as pd\n",
    "import numpy as np\n",
    "from datetime import datetime\n",
    "import utils\n",
    "import cleaning\n",
    "import matplotlib.pyplot as plt\n",
    "\n",
    "print(\"🐍 Python Fundamentals for Financial Engineering\")"
   ]
  },
  {
   "cell_type": "markdown",
   "metadata": {},
   "source": [
    "## 1. Financial Data Utilities Demo"
   ]
  },
  {
   "cell_type": "code",
   "execution_count": null,
   "metadata": {},
   "outputs": [],
   "source": [
    "# Test basic data fetching\n",
    "print(\"📊 Testing financial data utilities...\")\n",
    "\n",
    "# Fetch sample data\n",
    "sample_data = utils.fetch_yfinance('AAPL', period='1mo')\n",
    "\n",
    "if not sample_data.empty:\n",
    "    print(f\"✅ Data fetched successfully: {sample_data.shape}\")\n",
    "    print(f\"Date range: {sample_data['date'].min()} to {sample_data['date'].max()}\")\n",
    "    \n",
    "    # Display sample\n",
    "    print(\"\\nSample data:\")\n",
    "    print(sample_data[['date', 'open', 'high', 'low', 'close', 'volume']].head())\nelse:\n",
    "    print(\"❌ Failed to fetch data\")"
   ]
  },
  {
   "cell_type": "markdown",
   "metadata": {},
   "source": [
    "## 2. Data Quality Assessment"
   ]
  },
  {
   "cell_type": "code",
   "execution_count": null,
   "metadata": {},
   "outputs": [],
   "source": [
    "if not sample_data.empty:\n",
    "    # Generate data quality report\n",
    "    print(\"🔍 Data Quality Assessment:\")\n",
    "    quality_report = utils.data_quality_report(sample_data)\n",
    "    \n",
    "    print(f\"\\nShape: {quality_report['shape']}\")\n",
    "    print(f\"Memory usage: {quality_report['memory_usage_mb']:.2f} MB\")\n",
    "    print(f\"Duplicate rows: {quality_report['duplicate_rows']}\")\n",
    "    \n",
    "    # Check for missing data\n",
    "    missing_data = {k: v for k, v in quality_report['missing_data'].items() if v > 0}\n",
    "    if missing_data:\n",
    "        print(f\"Missing data: {missing_data}\")\n",
    "    else:\n",
    "        print(\"✅ No missing data found\")"
   ]
  },
  {
   "cell_type": "markdown",
   "metadata": {},
   "source": [
    "## 3. Data Cleaning Functions"
   ]
  },
  {
   "cell_type": "code",
   "execution_count": null,
   "metadata": {},
   "outputs": [],
   "source": [
    "# Create sample data with missing values for testing\n",
    "test_data = sample_data.copy()\n",
    "\n",
    "# Introduce some missing values\n",
    "np.random.seed(42)\n",
    "missing_indices = np.random.choice(test_data.index, size=5, replace=False)\n",
    "test_data.loc[missing_indices, 'close'] = np.nan\n",
    "\n",
    "print(f\"🧹 Testing data cleaning functions...\")\n",
    "print(f\"Introduced {test_data['close'].isna().sum()} missing values\")\n",
    "\n",
    "# Test cleaning functions\n",
    "cleaned_data = cleaning.fill_missing_median(test_data, columns=['close'])\n",
    "print(f\"✅ Missing values filled: {cleaned_data['close'].isna().sum()} remaining\")\n",
    "\n",
    "# Test normalization\n",
    "normalized_data, scaler = cleaning.normalize_data(cleaned_data, columns=['volume'], method='standard')\n",
    "print(f\"✅ Volume normalized: mean={normalized_data['volume'].mean():.3f}, std={normalized_data['volume'].std():.3f}\")"
   ]
  },
  {
   "cell_type": "markdown",
   "metadata": {},
   "source": [
    "## 4. Financial Calculations"
   ]
  },
  {
   "cell_type": "code",
   "execution_count": null,
   "metadata": {},
   "outputs": [],
   "source": [
    "if not sample_data.empty:\n",
    "    print(\"📈 Financial calculations demo:\")\n",
    "    \n",
    "    # Calculate returns\n",
    "    prices = sample_data['close']\n",
    "    returns = prices.pct_change().dropna()\n",
    "    \n",
    "    print(f\"\\nReturns statistics:\")\n",
    "    print(f\"  Mean daily return: {returns.mean():.4f}\")\n",
    "    print(f\"  Daily volatility: {returns.std():.4f}\")\n",
    "    print(f\"  Annualized return: {returns.mean() * 252:.4f}\")\n",
    "    print(f\"  Annualized volatility: {returns.std() * np.sqrt(252):.4f}\")\n",
    "    \n",
    "    # Calculate Sharpe ratio (assuming 2% risk-free rate)\n",
    "    risk_free_rate = 0.02\n",
    "    excess_returns = returns - (risk_free_rate / 252)\n",
    "    sharpe_ratio = (excess_returns.mean() * 252) / (returns.std() * np.sqrt(252))\n",
    "    print(f\"  Sharpe ratio: {sharpe_ratio:.4f}\")\n",
    "    \n",
    "    # Value at Risk (95%)\n",
    "    var_95 = returns.quantile(0.05)\n",
    "    print(f\"  VaR (95%): {var_95:.4f}\")"
   ]
  },
  {
   "cell_type": "markdown",
   "metadata": {},
   "source": [
    "## 5. Data Storage and Retrieval"
   ]
  },
  {
   "cell_type": "code",
   "execution_count": null,
   "metadata": {},
   "outputs": [],
   "source": [
    "if not sample_data.empty:\n",
    "    print(\"💾 Testing data storage functions...\")\n",
    "    \n",
    "    # Save data with timestamp\n",
    "    saved_path = utils.save_with_timestamp(\n",
    "        df=sample_data,\n",
    "        prefix=\"python_fundamentals_test\",\n",
    "        source=\"testing\",\n",
    "        ext=\"csv\"\n",
    "    )\n",
    "    \n",
    "    print(f\"✅ Data saved to: {saved_path}\")\n",
    "    \n",
    "    # Verify file exists\n",
    "    if os.path.exists(saved_path):\n",
    "        file_size = os.path.getsize(saved_path) / 1024  # KB\n",
    "        print(f\"✅ File verified: {file_size:.1f} KB\")\n",
    "    else:\n",
    "        print(\"❌ File not found\")"
   ]
  },
  {
   "cell_type": "markdown",
   "metadata": {},
   "source": [
    "## 6. Visualization Demo"
   ]
  },
  {
   "cell_type": "code",
   "execution_count": null,
   "metadata": {},
   "outputs": [],
   "source": [
    "if not sample_data.empty:\n",
    "    print(\"📊 Creating visualizations...\")\n",
    "    \n",
    "    # Create price and returns plots\n",
    "    fig, axes = plt.subplots(2, 1, figsize=(12, 8))\n",
    "    \n",
    "    # Price chart\n",
    "    axes[0].plot(sample_data['date'], sample_data['close'], 'b-', linewidth=2)\n",
    "    axes[0].set_title('AAPL Stock Price')\n",
    "    axes[0].set_ylabel('Price ($)')\n",
    "    axes[0].grid(True, alpha=0.3)\n",
    "    \n",
    "    # Returns chart\n",
    "    returns = sample_data['close'].pct_change().dropna()\n",
    "    axes[1].plot(sample_data['date'][1:], returns, 'r-', alpha=0.7)\n",
    "    axes[1].set_title('Daily Returns')\n",
    "    axes[1].set_ylabel('Return')\n",
    "    axes[1].set_xlabel('Date')\n",
    "    axes[1].grid(True, alpha=0.3)\n",
    "    \n",
    "    plt.tight_layout()\n",
    "    plt.show()\n",
    "    \n",
    "    print(\"✅ Visualizations created\")"
   ]
  },
  {
   "cell_type": "markdown",
   "metadata": {},
   "source": [
    "## 7. Module Organization Demo"
   ]
  },
  {
   "cell_type": "code",
   "execution_count": null,
   "metadata": {},
   "outputs": [],
   "source": [
    "# Demonstrate modular organization\n",
    "print(\"🏗️ Module Organization:\")\n",
    "\n",
    "# List available functions in utils module\n",
    "utils_functions = [func for func in dir(utils) if not func.startswith('_')]\n",
    "print(f\"\\nutils module functions ({len(utils_functions)}):\")\n",
    "for func in utils_functions[:10]:  # Show first 10\n",
    "    print(f\"  - {func}\")\nif len(utils_functions) > 10:\n",
    "    print(f\"  ... and {len(utils_functions) - 10} more\")\n",
    "\n",
    "# List available functions in cleaning module\n",
    "cleaning_functions = [func for func in dir(cleaning) if not func.startswith('_')]\n",
    "print(f\"\\ncleaning module functions ({len(cleaning_functions)}):\")\n",
    "for func in cleaning_functions:\n",
    "    print(f\"  - {func}\")"
   ]
  },
  {
   "cell_type": "markdown",
   "metadata": {},
   "source": [
    "## 8. Summary"
   ]
  },
  {
   "cell_type": "code",
   "execution_count": null,
   "metadata": {},
   "outputs": [],
   "source": [
    "print(\"\\n🎯 Stage 03 Summary:\")\nprint(\"✅ Financial data utilities tested\")\nprint(\"✅ Data cleaning functions validated\")\nprint(\"✅ Risk calculations demonstrated\")\nprint(\"✅ Data storage/retrieval working\")\nprint(\"✅ Visualization capabilities shown\")\nprint(\"✅ Modular code organization confirmed\")\n\nprint(\"\\n📋 Python Fundamentals Ready:\")\nprint(\"  - Financial data fetching and processing\")\nprint(\"  - Data quality assessment and cleaning\")\nprint(\"  - Risk metric calculations\")\nprint(\"  - Automated data storage with timestamps\")\nprint(\"  - Comprehensive error handling\")\n\nprint(\"\\n🚀 Ready to proceed to Stage 04: Data Acquisition\")"
   ]
  }
 ],
 "metadata": {
  "kernelspec": {
   "display_name": "Python 3",
   "language": "python",
   "name": "python3"
  },
  "language_info": {
   "codemirror_mode": {
    "name": "ipython",
    "version": 3
   },
   "file_extension": ".py",
   "name": "python",
   "nbconvert_exporter": "python",
   "pygments_lexer": "ipython3",
   "version": "3.9.6"
  }
 },
 "nbformat": 4,
 "nbformat_minor": 4
}
