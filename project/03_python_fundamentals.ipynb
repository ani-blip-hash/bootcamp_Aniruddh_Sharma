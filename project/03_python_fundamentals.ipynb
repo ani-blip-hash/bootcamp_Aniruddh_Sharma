{
 "cells": [
  {
   "cell_type": "markdown",
   "metadata": {},
   "source": [
    "# Stage 03: Python Fundamentals for Financial Engineering\n",
    "\n",
    "This notebook demonstrates core Python utilities and functions specifically designed for financial data analysis and risk management.\n",
    "\n",
    "## Objectives\n",
    "- Demonstrate financial utility functions\n",
    "- Test data cleaning capabilities\n",
    "- Validate risk calculation functions\n",
    "- Show modular code organization"
   ]
  },
  {
   "cell_type": "code",
   "execution_count": 1,
   "metadata": {},
   "outputs": [
    {
     "name": "stdout",
     "output_type": "stream",
     "text": [
      "🐍 Python Fundamentals for Financial Engineering\n"
     ]
    }
   ],
   "source": [
    "import sys\n",
    "import os\n",
    "sys.path.append('../src')\n",
    "\n",
    "import pandas as pd\n",
    "import numpy as np\n",
    "from datetime import datetime\n",
    "import utils\n",
    "import cleaning\n",
    "import matplotlib.pyplot as plt\n",
    "\n",
    "print(\"🐍 Python Fundamentals for Financial Engineering\")"
   ]
  },
  {
   "cell_type": "markdown",
   "metadata": {},
   "source": [
    "## 1. Financial Data Utilities Demo"
   ]
  },
  {
   "cell_type": "code",
   "execution_count": 2,
   "metadata": {},
   "outputs": [
    {
     "name": "stdout",
     "output_type": "stream",
     "text": [
      "📊 Testing financial data utilities...\n",
      "📈 Fetching AAPL data (period=1mo, interval=1d)\n",
      "✅ Fetched 23 records for AAPL\n",
      "✅ Data fetched successfully: (23, 11)\n",
      "Date range: 2025-07-23 00:00:00-04:00 to 2025-08-22 00:00:00-04:00\n",
      "\n",
      "Sample data:\n",
      "                       date        open        high         low       close  \\\n",
      "0 2025-07-23 00:00:00-04:00  214.756269  214.906093  212.169209  213.907227   \n",
      "1 2025-07-24 00:00:00-04:00  213.657510  215.445490  213.287935  213.517670   \n",
      "2 2025-07-25 00:00:00-04:00  214.456605  214.996002  213.158076  213.637543   \n",
      "3 2025-07-28 00:00:00-04:00  213.787376  214.606454  212.818475  213.807358   \n",
      "4 2025-07-29 00:00:00-04:00  213.937192  214.566483  210.581016  211.030502   \n",
      "\n",
      "     volume  \n",
      "0  46989300  \n",
      "1  46022600  \n",
      "2  40268800  \n",
      "3  37858000  \n",
      "4  51411700  \n"
     ]
    }
   ],
   "source": [
    "# Test basic data fetching\n",
    "print(\"📊 Testing financial data utilities...\")\n",
    "\n",
    "# Fetch sample data\n",
    "sample_data = utils.fetch_yfinance('AAPL', period='1mo')\n",
    "\n",
    "if not sample_data.empty:\n",
    "    print(f\"✅ Data fetched successfully: {sample_data.shape}\")\n",
    "    print(f\"Date range: {sample_data['date'].min()} to {sample_data['date'].max()}\")\n",
    "    \n",
    "    # Display sample\n",
    "    print(\"\\nSample data:\")\n",
    "    print(sample_data[['date', 'open', 'high', 'low', 'close', 'volume']].head())\n",
    "else:\n",
    "    print(\"❌ Failed to fetch data\")"
   ]
  },
  {
   "cell_type": "markdown",
   "metadata": {},
   "source": [
    "## 2. Data Quality Assessment"
   ]
  },
  {
   "cell_type": "code",
   "execution_count": 3,
   "metadata": {},
   "outputs": [
    {
     "name": "stdout",
     "output_type": "stream",
     "text": [
      "🔍 Data Quality Assessment:\n",
      "\n",
      "Shape: (23, 11)\n",
      "Memory usage: 0.00 MB\n",
      "Duplicate rows: 0\n",
      "✅ No missing data found\n"
     ]
    }
   ],
   "source": [
    "if not sample_data.empty:\n",
    "    # Generate data quality report\n",
    "    print(\"🔍 Data Quality Assessment:\")\n",
    "    quality_report = utils.data_quality_report(sample_data)\n",
    "    \n",
    "    print(f\"\\nShape: {quality_report['shape']}\")\n",
    "    print(f\"Memory usage: {quality_report['memory_usage_mb']:.2f} MB\")\n",
    "    print(f\"Duplicate rows: {quality_report['duplicate_rows']}\")\n",
    "    \n",
    "    # Check for missing data\n",
    "    missing_data = {k: v for k, v in quality_report['missing_data'].items() if v > 0}\n",
    "    if missing_data:\n",
    "        print(f\"Missing data: {missing_data}\")\n",
    "    else:\n",
    "        print(\"✅ No missing data found\")"
   ]
  },
  {
   "cell_type": "markdown",
   "metadata": {},
   "source": [
    "## 3. Data Cleaning Functions"
   ]
  },
  {
   "cell_type": "code",
   "execution_count": 4,
   "metadata": {},
   "outputs": [
    {
     "name": "stdout",
     "output_type": "stream",
     "text": [
      "🧹 Testing data cleaning functions...\n",
      "Introduced 5 missing values\n",
      "Filled 0 missing values in 'close' with median: 222.3403\n",
      "✅ Missing values filled: 0 remaining\n",
      "Normalized 1 columns using standard scaling: ['volume']\n",
      "Scaling statistics (mean, std):\n",
      "  volume: mean=59673786.9565, std=23947838.8888\n",
      "✅ Volume normalized: mean=-0.000, std=1.022\n"
     ]
    },
    {
     "name": "stderr",
     "output_type": "stream",
     "text": [
      "/Users/aniruddhsharma/Projects/bootcamp_Aniruddh_Sharma/project/../src/cleaning.py:45: FutureWarning: A value is trying to be set on a copy of a DataFrame or Series through chained assignment using an inplace method.\n",
      "The behavior will change in pandas 3.0. This inplace method will never work because the intermediate object on which we are setting values always behaves as a copy.\n",
      "\n",
      "For example, when doing 'df[col].method(value, inplace=True)', try using 'df.method({col: value}, inplace=True)' or df[col] = df[col].method(value) instead, to perform the operation inplace on the original object.\n",
      "\n",
      "\n",
      "  df_cleaned[col].fillna(median_value, inplace=True)\n"
     ]
    }
   ],
   "source": [
    "# Create sample data with missing values for testing\n",
    "test_data = sample_data.copy()\n",
    "\n",
    "# Introduce some missing values\n",
    "np.random.seed(42)\n",
    "missing_indices = np.random.choice(test_data.index, size=5, replace=False)\n",
    "test_data.loc[missing_indices, 'close'] = np.nan\n",
    "\n",
    "print(f\"🧹 Testing data cleaning functions...\")\n",
    "print(f\"Introduced {test_data['close'].isna().sum()} missing values\")\n",
    "\n",
    "# Test cleaning functions\n",
    "cleaned_data = cleaning.fill_missing_median(test_data, columns=['close'])\n",
    "print(f\"✅ Missing values filled: {cleaned_data['close'].isna().sum()} remaining\")\n",
    "\n",
    "# Test normalization\n",
    "normalized_data, scaler = cleaning.normalize_data(cleaned_data, columns=['volume'], method='standard')\n",
    "print(f\"✅ Volume normalized: mean={normalized_data['volume'].mean():.3f}, std={normalized_data['volume'].std():.3f}\")"
   ]
  },
  {
   "cell_type": "markdown",
   "metadata": {},
   "source": [
    "## 4. Financial Calculations"
   ]
  },
  {
   "cell_type": "code",
   "execution_count": 5,
   "metadata": {},
   "outputs": [
    {
     "name": "stdout",
     "output_type": "stream",
     "text": [
      "📈 Financial calculations demo:\n",
      "\n",
      "Returns statistics:\n",
      "  Mean daily return: 0.0030\n",
      "  Daily volatility: 0.0186\n",
      "  Annualized return: 0.7606\n",
      "  Annualized volatility: 0.2949\n",
      "  Sharpe ratio: 2.5118\n",
      "  VaR (95%): -0.0194\n"
     ]
    }
   ],
   "source": [
    "if not sample_data.empty:\n",
    "    print(\"📈 Financial calculations demo:\")\n",
    "    \n",
    "    # Calculate returns\n",
    "    prices = sample_data['close']\n",
    "    returns = prices.pct_change().dropna()\n",
    "    \n",
    "    print(f\"\\nReturns statistics:\")\n",
    "    print(f\"  Mean daily return: {returns.mean():.4f}\")\n",
    "    print(f\"  Daily volatility: {returns.std():.4f}\")\n",
    "    print(f\"  Annualized return: {returns.mean() * 252:.4f}\")\n",
    "    print(f\"  Annualized volatility: {returns.std() * np.sqrt(252):.4f}\")\n",
    "    \n",
    "    # Calculate Sharpe ratio (assuming 2% risk-free rate)\n",
    "    risk_free_rate = 0.02\n",
    "    excess_returns = returns - (risk_free_rate / 252)\n",
    "    sharpe_ratio = (excess_returns.mean() * 252) / (returns.std() * np.sqrt(252))\n",
    "    print(f\"  Sharpe ratio: {sharpe_ratio:.4f}\")\n",
    "    \n",
    "    # Value at Risk (95%)\n",
    "    var_95 = returns.quantile(0.05)\n",
    "    print(f\"  VaR (95%): {var_95:.4f}\")"
   ]
  },
  {
   "cell_type": "markdown",
   "metadata": {},
   "source": [
    "## 5. Data Storage and Retrieval"
   ]
  },
  {
   "cell_type": "code",
   "execution_count": 6,
   "metadata": {},
   "outputs": [
    {
     "name": "stdout",
     "output_type": "stream",
     "text": [
      "💾 Testing data storage functions...\n",
      "💾 Saved 23 rows to ./data/raw/testing/python_fundamentals_test_20250824_173442.csv\n",
      "✅ Data saved to: ./data/raw/testing/python_fundamentals_test_20250824_173442.csv\n",
      "✅ File verified: 3.6 KB\n"
     ]
    }
   ],
   "source": [
    "if not sample_data.empty:\n",
    "    print(\"💾 Testing data storage functions...\")\n",
    "    \n",
    "    # Save data with timestamp\n",
    "    saved_path = utils.save_with_timestamp(\n",
    "        df=sample_data,\n",
    "        prefix=\"python_fundamentals_test\",\n",
    "        source=\"testing\",\n",
    "        ext=\"csv\"\n",
    "    )\n",
    "    \n",
    "    print(f\"✅ Data saved to: {saved_path}\")\n",
    "    \n",
    "    # Verify file exists\n",
    "    if os.path.exists(saved_path):\n",
    "        file_size = os.path.getsize(saved_path) / 1024  # KB\n",
    "        print(f\"✅ File verified: {file_size:.1f} KB\")\n",
    "    else:\n",
    "        print(\"❌ File not found\")"
   ]
  },
  {
   "cell_type": "markdown",
   "metadata": {},
   "source": [
    "## 6. Visualization Demo"
   ]
  },
  {
   "cell_type": "code",
   "execution_count": 7,
   "metadata": {},
   "outputs": [
    {
     "name": "stdout",
     "output_type": "stream",
     "text": [
      "📊 Creating visualizations...\n"
     ]
    },
    {
     "data": {
      "image/png": "[encoded data removed]",
      "text/plain": [
       "<Figure size 1200x800 with 2 Axes>"
      ]
     },
     "metadata": {},
     "output_type": "display_data"
    },
    {
     "name": "stdout",
     "output_type": "stream",
     "text": [
      "✅ Visualizations created\n"
     ]
    }
   ],
   "source": [
    "if not sample_data.empty:\n",
    "    print(\"📊 Creating visualizations...\")\n",
    "    \n",
    "    # Create price and returns plots\n",
    "    fig, axes = plt.subplots(2, 1, figsize=(12, 8))\n",
    "    \n",
    "    # Price chart\n",
    "    axes[0].plot(sample_data['date'], sample_data['close'], 'b-', linewidth=2)\n",
    "    axes[0].set_title('AAPL Stock Price')\n",
    "    axes[0].set_ylabel('Price ($)')\n",
    "    axes[0].grid(True, alpha=0.3)\n",
    "    \n",
    "    # Returns chart\n",
    "    returns = sample_data['close'].pct_change().dropna()\n",
    "    axes[1].plot(sample_data['date'][1:], returns, 'r-', alpha=0.7)\n",
    "    axes[1].set_title('Daily Returns')\n",
    "    axes[1].set_ylabel('Return')\n",
    "    axes[1].set_xlabel('Date')\n",
    "    axes[1].grid(True, alpha=0.3)\n",
    "    \n",
    "    plt.tight_layout()\n",
    "    plt.show()\n",
    "    \n",
    "    print(\"✅ Visualizations created\")"
   ]
  },
  {
   "cell_type": "markdown",
   "metadata": {},
   "source": [
    "## 7. Module Organization Demo"
   ]
  },
  {
   "cell_type": "code",
   "execution_count": 8,
   "metadata": {},
   "outputs": [
    {
     "name": "stdout",
     "output_type": "stream",
     "text": [
      "🏗️ Module Organization:\n",
      "\n",
      "utils module functions (23):\n",
      "  - BeautifulSoup\n",
      "  - List\n",
      "  - Optional\n",
      "  - data_quality_report\n",
      "  - datetime\n",
      "  - fetch_alphavantage\n",
      "  - fetch_company_overview\n",
      "  - fetch_global_quote\n",
      "  - fetch_multiple_stocks\n",
      "  - fetch_stock_data\n",
      "  ... and 13 more\n",
      "\n",
      "cleaning module functions (12):\n",
      "  - List\n",
      "  - MinMaxScaler\n",
      "  - Optional\n",
      "  - StandardScaler\n",
      "  - Union\n",
      "  - drop_missing\n",
      "  - fill_missing_median\n",
      "  - get_data_summary\n",
      "  - normalize_data\n",
      "  - np\n",
      "  - pd\n",
      "  - print_cleaning_report\n"
     ]
    }
   ],
   "source": [
    "# Demonstrate modular organization\n",
    "print(\"🏗️ Module Organization:\")\n",
    "\n",
    "# List available functions in utils module\n",
    "utils_functions = [func for func in dir(utils) if not func.startswith('_')]\n",
    "print(f\"\\nutils module functions ({len(utils_functions)}):\")\n",
    "for func in utils_functions[:10]:  # Show first 10\n",
    "    print(f\"  - {func}\")\n",
    "if len(utils_functions) > 10:\n",
    "    print(f\"  ... and {len(utils_functions) - 10} more\")\n",
    "\n",
    "# List available functions in cleaning module\n",
    "cleaning_functions = [func for func in dir(cleaning) if not func.startswith('_')]\n",
    "print(f\"\\ncleaning module functions ({len(cleaning_functions)}):\")\n",
    "for func in cleaning_functions:\n",
    "    print(f\"  - {func}\")"
   ]
  },
  {
   "cell_type": "markdown",
   "metadata": {},
   "source": [
    "## 8. Summary"
   ]
  },
  {
   "cell_type": "code",
   "execution_count": 9,
   "metadata": {},
   "outputs": [
    {
     "name": "stdout",
     "output_type": "stream",
     "text": [
      "\n",
      "🎯 Stage 03 Summary:\n",
      "✅ Financial data utilities tested\n",
      "✅ Data cleaning functions validated\n",
      "✅ Risk calculations demonstrated\n",
      "✅ Data storage/retrieval working\n",
      "✅ Visualization capabilities shown\n",
      "✅ Modular code organization confirmed\n",
      "\n",
      "📋 Python Fundamentals Ready:\n",
      "  - Financial data fetching and processing\n",
      "  - Data quality assessment and cleaning\n",
      "  - Risk metric calculations\n",
      "  - Automated data storage with timestamps\n",
      "  - Comprehensive error handling\n",
      "\n",
      "🚀 Ready to proceed to Stage 04: Data Acquisition\n"
     ]
    }
   ],
   "source": [
    "print(\"\\n🎯 Stage 03 Summary:\")\n",
    "print(\"✅ Financial data utilities tested\")\n",
    "print(\"✅ Data cleaning functions validated\")\n",
    "print(\"✅ Risk calculations demonstrated\")\n",
    "print(\"✅ Data storage/retrieval working\")\n",
    "print(\"✅ Visualization capabilities shown\")\n",
    "print(\"✅ Modular code organization confirmed\")\n",
    "\n",
    "print(\"\\n📋 Python Fundamentals Ready:\")\n",
    "print(\"  - Financial data fetching and processing\")\n",
    "print(\"  - Data quality assessment and cleaning\")\n",
    "print(\"  - Risk metric calculations\")\n",
    "print(\"  - Automated data storage with timestamps\")\n",
    "print(\"  - Comprehensive error handling\")\n",
    "\n",
    "print(\"\\n🚀 Ready to proceed to Stage 04: Data Acquisition\")"
   ]
  },
  {
   "cell_type": "code",
   "execution_count": null,
   "metadata": {},
   "outputs": [],
   "source": []
  },
  {
   "cell_type": "code",
   "execution_count": null,
   "metadata": {},
   "outputs": [],
   "source": []
  },
  {
   "cell_type": "code",
   "execution_count": null,
   "metadata": {},
   "outputs": [],
   "source": []
  }
 ],
 "metadata": {
  "kernelspec": {
   "display_name": "Python [conda env:base] *",
   "language": "python",
   "name": "conda-base-py"
  },
  "language_info": {
   "codemirror_mode": {
    "name": "ipython",
    "version": 3
   },
   "file_extension": ".py",
   "mimetype": "text/x-python",
   "name": "python",
   "nbconvert_exporter": "python",
   "pygments_lexer": "ipython3",
   "version": "3.13.5"
  }
 },
 "nbformat": 4,
 "nbformat_minor": 4
}
