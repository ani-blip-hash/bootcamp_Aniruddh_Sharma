{
 "cells": [
  {
   "cell_type": "markdown",
   "metadata": {},
   "source": [
    "# Stage 05: Data Storage Infrastructure\n",
    "\n",
    "This notebook sets up proper data storage with file handling, directory structure, and data versioning.\n",
    "\n",
    "## Objectives\n",
    "- Create organized directory structure\n",
    "- Implement data versioning\n",
    "- Set up automated backup systems\n",
    "- Test storage operations"
   ]
  },
  {
   "cell_type": "code",
   "execution_count": null,
   "metadata": {},
   "outputs": [],
   "source": [
    "import sys\n",
    "import os\n",
    "sys.path.append('../src')\n",
    "\n",
    "import pandas as pd\n",
    "import numpy as np\n",
    "from datetime import datetime\n",
    "import utils\n",
    "import json\n",
    "from pathlib import Path\n",
    "\n",
    "print(\"💾 Data Storage Infrastructure Setup\")"
   ]
  },
  {
   "cell_type": "markdown",
   "metadata": {},
   "source": [
    "## 1. Directory Structure Setup"
   ]
  },
  {
   "cell_type": "code",
   "execution_count": null,
   "metadata": {},
   "outputs": [],
   "source": [
    "# Create comprehensive directory structure\n",
    "directories = [\n",
    "    '../data/raw/financial_apis',\n",
    "    '../data/processed/cleaned',\n",
    "    '../data/processed/features',\n",
    "    '../data/processed/models',\n",
    "    '../data/backup',\n",
    "    '../models/trained',\n",
    "    '../models/checkpoints',\n",
    "    '../reports/daily',\n",
    "    '../reports/monthly'\n",
    "]\n",
    "\n",
    "for directory in directories:\n",
    "    Path(directory).mkdir(parents=True, exist_ok=True)\n",
    "    print(f\"✅ Created: {directory}\")\n",
    "\n",
    "print(\"\\n📁 Directory structure created successfully\")"
   ]
  },
  {
   "cell_type": "markdown",
   "metadata": {},
   "source": [
    "## 2. Test Data Storage Functions"
   ]
  },
  {
   "cell_type": "code",
   "execution_count": null,
   "metadata": {},
   "outputs": [],
   "source": [
    "# Create sample data for testing\n",
    "sample_data = pd.DataFrame({\n",
    "    'date': pd.date_range('2024-01-01', periods=10),\n",
    "    'symbol': ['TEST'] * 10,\n",
    "    'price': np.random.uniform(100, 200, 10),\n",
    "    'volume': np.random.randint(1000, 10000, 10)\n",
    "})\n",
    "\n",
    "print(\"Sample data created:\")\n",
    "print(sample_data.head())\n",
    "\n",
    "# Test saving with timestamp\n",
    "saved_path = utils.save_with_timestamp(\n",
    "    df=sample_data,\n",
    "    prefix=\"test_storage\",\n",
    "    source=\"testing\",\n",
    "    ext=\"csv\"\n",
    ")\n",
    "\n",
    "print(f\"\\n✅ Test data saved to: {saved_path}\")"
   ]
  },
  {
   "cell_type": "markdown",
   "metadata": {},
   "source": [
    "## 3. Data Versioning System"
   ]
  },
  {
   "cell_type": "code",
   "execution_count": null,
   "metadata": {},
   "outputs": [],
   "source": [
    "def create_data_manifest(data_path: str, description: str) -> dict:\n",
    "    \"\"\"Create a manifest file for data versioning.\"\"\"\n",
    "    manifest = {\n",
    "        'timestamp': datetime.now().isoformat(),\n",
    "        'file_path': data_path,\n",
    "        'description': description,\n",
    "        'file_size_mb': os.path.getsize(data_path) / (1024 * 1024) if os.path.exists(data_path) else 0,\n",
    "        'version': datetime.now().strftime('%Y%m%d_%H%M%S')\n",
    "    }\n",
    "    \n",
    "    # Save manifest\n",
    "    manifest_path = data_path.replace('.csv', '_manifest.json')\n",
    "    with open(manifest_path, 'w') as f:\n",
    "        json.dump(manifest, f, indent=2)\n",
    "    \n",
    "    print(f\"📋 Manifest created: {manifest_path}\")\n",
    "    return manifest\n",
    "\n",
    "# Create manifest for test data\n",
    "if os.path.exists(saved_path):\n",
    "    manifest = create_data_manifest(saved_path, \"Test storage functionality\")\n",
    "    print(f\"Version: {manifest['version']}\")"
   ]
  },
  {
   "cell_type": "markdown",
   "metadata": {},
   "source": [
    "## 4. Storage Validation"
   ]
  },
  {
   "cell_type": "code",
   "execution_count": null,
   "metadata": {},
   "outputs": [],
   "source": [
    "def validate_storage_structure():\n",
    "    \"\"\"Validate that all required directories exist.\"\"\"\n",
    "    required_dirs = [\n",
    "        '../data/raw',\n",
    "        '../data/processed', \n",
    "        '../models',\n",
    "        '../reports'\n",
    "    ]\n",
    "    \n",
    "    all_exist = True\n",
    "    for directory in required_dirs:\n",
    "        if os.path.exists(directory):\n",
    "            print(f\"✅ {directory} exists\")\n",
    "        else:\n",
    "            print(f\"❌ {directory} missing\")\n",
    "            all_exist = False\n",
    "    \n",
    "    return all_exist\n",
    "\n",
    "print(\"🔍 Validating storage structure:\")\n",
    "storage_valid = validate_storage_structure()\n",
    "\n",
    "if storage_valid:\n",
    "    print(\"\\n✅ Storage infrastructure validated successfully\")\n",
    "else:\n",
    "    print(\"\\n❌ Storage validation failed\")"
   ]
  },
  {
   "cell_type": "markdown",
   "metadata": {},
   "source": [
    "## 5. Summary"
   ]
  },
  {
   "cell_type": "code",
   "execution_count": null,
   "metadata": {},
   "outputs": [],
   "source": [
    "print(\"\\n🎯 Stage 05 Summary:\")\n",
    "print(\"✅ Directory structure created\")\n",
    "print(\"✅ Storage functions tested\")\n",
    "print(\"✅ Data versioning implemented\")\n",
    "print(\"✅ Storage validation completed\")\n",
    "\n",
    "print(\"\\n📋 Next Steps:\")\n",
    "print(\"- Stage 06: Create preprocessing pipeline\")\n",
    "print(\"- Stage 07: Build risk analysis models\")\n",
    "print(\"- Stage 08: Create portfolio optimization\")"
   ]
  }
 ],
 "metadata": {
  "kernelspec": {
   "display_name": "Python 3",
   "language": "python",
   "name": "python3"
  },
  "language_info": {
   "codemirror_mode": {
    "name": "ipython",
    "version": 3
   },
   "file_extension": ".py",
   "name": "python",
   "nbconvert_exporter": "python",
   "pygraph_lexer": "ipython3",
   "version": "3.9.6"
  }
 },
 "nbformat": 4,
 "nbformat_minor": 4
}
