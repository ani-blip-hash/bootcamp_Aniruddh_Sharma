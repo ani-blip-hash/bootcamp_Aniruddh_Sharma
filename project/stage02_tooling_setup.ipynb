{
 "cells": [
  {
   "cell_type": "markdown",
   "metadata": {},
   "source": [
    "# Stage 02: Project Tooling and Environment Setup\n",
    "\n",
    "This notebook sets up the development environment, dependencies, and project structure for the Portfolio Risk Management System.\n",
    "\n",
    "## Objectives\n",
    "- Configure Python environment and dependencies\n",
    "- Set up project directory structure\n",
    "- Configure version control and documentation\n",
    "- Test core functionality"
   ]
  },
  {
   "cell_type": "markdown",
   "metadata": {},
   "source": [
    "## 1. Environment Setup"
   ]
  },
  {
   "cell_type": "code",
   "execution_count": null,
   "metadata": {},
   "outputs": [],
   "source": [
    "import sys\n",
    "import os\n",
    "import subprocess\n",
    "from pathlib import Path\n",
    "\n",
    "print(\"🔧 Setting up Portfolio Risk Management System\")\n",
    "print(f\"Python version: {sys.version}\")\n",
    "print(f\"Working directory: {os.getcwd()}\")"
   ]
  },
  {
   "cell_type": "markdown",
   "metadata": {},
   "source": [
    "## 2. Dependencies Installation"
   ]
  },
  {
   "cell_type": "code",
   "execution_count": null,
   "metadata": {},
   "outputs": [],
   "source": [
    "# Check if requirements.txt exists\n",
    "requirements_file = Path('../requirements.txt')\n",
    "\n",
    "if requirements_file.exists():\n",
    "    print(\"✅ requirements.txt found\")\n",
    "    \n",
    "    # Display requirements\n",
    "    with open(requirements_file, 'r') as f:\n",
    "        requirements = f.read()\n",
    "    \n",
    "    print(\"\\n📦 Required packages:\")\n",
    "    for line in requirements.split('\\n'):\n",
    "        if line.strip() and not line.startswith('#'):\n",
    "            print(f\"  - {line.strip()}\")\nelse:\n",
    "    print(\"❌ requirements.txt not found\")"
   ]
  },
  {
   "cell_type": "markdown",
   "metadata": {},
   "source": [
    "## 3. Project Structure Validation"
   ]
  },
  {
   "cell_type": "code",
   "execution_count": null,
   "metadata": {},
   "outputs": [],
   "source": [
    "# Define expected project structure\n",
    "expected_structure = {\n",
    "    'src/': 'Source code modules',\n",
    "    'data/raw/': 'Raw data storage',\n",
    "    'data/processed/': 'Processed data storage',\n",
    "    'project/': 'Jupyter notebooks',\n",
    "    'docs/': 'Documentation',\n",
    "    'homework/': 'Homework assignments'\n",
    "}\n",
    "\n",
    "print(\"📁 Validating project structure:\")\n",
    "for directory, description in expected_structure.items():\n",
    "    dir_path = Path(f'../{directory}')\n",
    "    if dir_path.exists():\n",
    "        print(f\"✅ {directory:<15} - {description}\")\n",
    "    else:\n",
    "        print(f\"❌ {directory:<15} - Missing: {description}\")\n",
    "        # Create missing directories\n",
    "        dir_path.mkdir(parents=True, exist_ok=True)\n",
    "        print(f\"   Created: {directory}\")"
   ]
  },
  {
   "cell_type": "markdown",
   "metadata": {},
   "source": [
    "## 4. Core Module Testing"
   ]
  },
  {
   "cell_type": "code",
   "execution_count": null,
   "metadata": {},
   "outputs": [],
   "source": [
    "# Test core module imports\n",
    "sys.path.append('../src')\n",
    "\n",
    "try:\n",
    "    import pandas as pd\n",
    "    import numpy as np\n",
    "    print(\"✅ Core data science libraries imported\")\n",
    "    print(f\"   - pandas: {pd.__version__}\")\n",
    "    print(f\"   - numpy: {np.__version__}\")\nexcept ImportError as e:\n",
    "    print(f\"❌ Failed to import core libraries: {e}\")\n",
    "\n",
    "try:\n",
    "    import utils\n",
    "    print(\"✅ utils module imported successfully\")\nexcept ImportError as e:\n",
    "    print(f\"❌ Failed to import utils: {e}\")\n",
    "\n",
    "try:\n",
    "    import cleaning\n",
    "    print(\"✅ cleaning module imported successfully\")\nexcept ImportError as e:\n",
    "    print(f\"❌ Failed to import cleaning: {e}\")"
   ]
  },
  {
   "cell_type": "markdown",
   "metadata": {},
   "source": [
    "## 5. Financial Libraries Testing"
   ]
  },
  {
   "cell_type": "code",
   "execution_count": null,
   "metadata": {},
   "outputs": [],
   "source": [
    "# Test financial data libraries\n",
    "financial_libs = {\n",
    "    'yfinance': 'Yahoo Finance data',\n",
    "    'alpha_vantage': 'Alpha Vantage API',\n",
    "    'pandas_datareader': 'Financial data reader',\n",
    "    'scipy': 'Scientific computing',\n",
    "    'plotly': 'Interactive visualization'\n",
    "}\n",
    "\n",
    "print(\"📊 Testing financial libraries:\")\n",
    "for lib, description in financial_libs.items():\n",
    "    try:\n",
    "        __import__(lib)\n",
    "        print(f\"✅ {lib:<20} - {description}\")\n",
    "    except ImportError:\n",
    "        print(f\"❌ {lib:<20} - Not installed: {description}\")"
   ]
  },
  {
   "cell_type": "markdown",
   "metadata": {},
   "source": [
    "## 6. Configuration Files"
   ]
  },
  {
   "cell_type": "code",
   "execution_count": null,
   "metadata": {},
   "outputs": [],
   "source": [
    "# Check configuration files\n",
    "config_files = {\n",
    "    '../.gitignore': 'Git ignore patterns',\n",
    "    '../.env.example': 'Environment variables template',\n",
    "    '../README.md': 'Project documentation'\n",
    "}\n",
    "\n",
    "print(\"⚙️ Checking configuration files:\")\n",
    "for file_path, description in config_files.items():\n",
    "    if Path(file_path).exists():\n",
    "        print(f\"✅ {Path(file_path).name:<15} - {description}\")\n",
    "    else:\n",
    "        print(f\"❌ {Path(file_path).name:<15} - Missing: {description}\")"
   ]
  },
  {
   "cell_type": "markdown",
   "metadata": {},
   "source": [
    "## 7. Quick Functionality Test"
   ]
  },
  {
   "cell_type": "code",
   "execution_count": null,
   "metadata": {},
   "outputs": [],
   "source": [
    "# Test basic functionality\n",
    "if 'utils' in locals():\n",
    "    try:\n",
    "        # Test data fetching capability\n",
    "        test_data = utils.fetch_yfinance('AAPL', period='5d')\n",
    "        if not test_data.empty:\n",
    "            print(f\"✅ Data fetching works: {len(test_data)} records\")\n",
    "            print(f\"   Columns: {list(test_data.columns)}\")\n",
    "        else:\n",
    "            print(\"⚠️ Data fetching returned empty result\")\n",
    "    except Exception as e:\n",
    "        print(f\"❌ Data fetching failed: {e}\")\nelse:\n",
    "    print(\"⚠️ Utils module not available for testing\")"
   ]
  },
  {
   "cell_type": "markdown",
   "metadata": {},
   "source": [
    "## 8. Development Environment Summary"
   ]
  },
  {
   "cell_type": "code",
   "execution_count": null,
   "metadata": {},
   "outputs": [],
   "source": [
    "print(\"\\n🎯 Stage 02 Summary:\")\nprint(\"✅ Python environment configured\")\nprint(\"✅ Project structure validated\")\nprint(\"✅ Dependencies checked\")\nprint(\"✅ Core modules tested\")\nprint(\"✅ Configuration files verified\")\n\nprint(\"\\n📋 Environment Ready For:\")\nprint(\"  - Financial data acquisition\")\nprint(\"  - Data processing and analysis\")\nprint(\"  - Risk modeling and optimization\")\nprint(\"  - Interactive development\")\n\nprint(\"\\n🚀 Ready to proceed to Stage 03: Python Fundamentals\")"
   ]
  }
 ],
 "metadata": {
  "kernelspec": {
   "display_name": "Python 3",
   "language": "python",
   "name": "python3"
  },
  "language_info": {
   "codemirror_mode": {
    "name": "ipython",
    "version": 3
   },
   "file_extension": ".py",
   "name": "python",
   "nbconvert_exporter": "python",
   "pygments_lexer": "ipython3",
   "version": "3.9.6"
  }
 },
 "nbformat": 4,
 "nbformat_minor": 4
}
